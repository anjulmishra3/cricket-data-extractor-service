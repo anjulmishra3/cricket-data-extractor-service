{
 "cells": [
  {
   "cell_type": "code",
   "execution_count": 1,
   "id": "9e642584",
   "metadata": {},
   "outputs": [],
   "source": [
    "import pandas as pd\n",
    "\n",
    "all_balls = pd.read_csv(\"~/ipl-analysis-service/all_ipl_balls.csv\")"
   ]
  },
  {
   "cell_type": "code",
   "execution_count": 21,
   "id": "e96ceac9",
   "metadata": {},
   "outputs": [],
   "source": [
    "def fetch_n_rows_above_and_below(n, df, original_df, above=True):\n",
    "    below = True\n",
    "    if above:\n",
    "        below = False\n",
    "        \n",
    "    # fetch index of required rows\n",
    "    idx = df.index\n",
    "    filter_idx = idx + n if below else idx - n\n",
    "    \n",
    "    # apply limits to index\n",
    "    filter_idx = filter_idx[filter_idx > 0]\n",
    "    filter_idx = filter_idx[filter_idx < original_df.shape[0]]\n",
    "    \n",
    "    # apply filter\n",
    "    df_result = original_df.loc[filter_idx]\n",
    "    print(original_df.index, filter_idx)\n",
    "    \n",
    "    return df_result"
   ]
  },
  {
   "cell_type": "code",
   "execution_count": 22,
   "id": "58416efe",
   "metadata": {},
   "outputs": [
    {
     "name": "stdout",
     "output_type": "stream",
     "text": [
      "RangeIndex(start=0, stop=208030, step=1) Int64Index([     1,      3,      5,      6,      7,      8,     11,     12,\n",
      "                14,     16,\n",
      "            ...\n",
      "            207994, 208002, 208005, 208006, 208012, 208013, 208015, 208016,\n",
      "            208021, 208025],\n",
      "           dtype='int64', length=37917)\n",
      "RangeIndex(start=0, stop=208030, step=1) Int64Index([     3,      5,      7,      8,      9,     10,     13,     14,\n",
      "                16,     18,\n",
      "            ...\n",
      "            207996, 208004, 208007, 208008, 208014, 208015, 208017, 208018,\n",
      "            208023, 208027],\n",
      "           dtype='int64', length=37917)\n"
     ]
    }
   ],
   "source": [
    "df_one_above = fetch_n_rows_above_and_below(1, all_balls[all_balls.length_on_pitching > 8], all_balls, above=True)\n",
    "df_one_below = fetch_n_rows_above_and_below(1, all_balls[all_balls.length_on_pitching > 8], all_balls, above=False)"
   ]
  },
  {
   "cell_type": "code",
   "execution_count": 36,
   "id": "f873c1cb",
   "metadata": {},
   "outputs": [
    {
     "data": {
      "text/plain": [
       "array([[<AxesSubplot:title={'center':'over_number'}>]], dtype=object)"
      ]
     },
     "execution_count": 36,
     "metadata": {},
     "output_type": "execute_result"
    },
    {
     "data": {
      "image/png": "[encoded data removed]",
      "text/plain": [
       "<Figure size 432x288 with 1 Axes>"
      ]
     },
     "metadata": {
      "needs_background": "light"
     },
     "output_type": "display_data"
    }
   ],
   "source": [
    "df_one_above.hist(column=\"over_number\", bins=[0,6,16,20], range=[50, 160])"
   ]
  },
  {
   "cell_type": "code",
   "execution_count": 24,
   "id": "92fbc937",
   "metadata": {},
   "outputs": [
    {
     "data": {
      "text/plain": [
       "array([[<AxesSubplot:title={'center':'0'}>,\n",
       "        <AxesSubplot:title={'center':'1'}>,\n",
       "        <AxesSubplot:title={'center':'2'}>],\n",
       "       [<AxesSubplot:title={'center':'3'}>,\n",
       "        <AxesSubplot:title={'center':'4'}>,\n",
       "        <AxesSubplot:title={'center':'5'}>],\n",
       "       [<AxesSubplot:title={'center':'6'}>, <AxesSubplot:>,\n",
       "        <AxesSubplot:>]], dtype=object)"
      ]
     },
     "execution_count": 24,
     "metadata": {},
     "output_type": "execute_result"
    },
    {
     "data": {
      "image/png": "[encoded data removed]",
      "text/plain": [
       "<Figure size 432x288 with 9 Axes>"
      ]
     },
     "metadata": {
      "needs_background": "light"
     },
     "output_type": "display_data"
    }
   ],
   "source": [
    "df_one_below.hist(column=\"length_on_pitching\", by=\"runs\", range=[0, 15])"
   ]
  },
  {
   "cell_type": "code",
   "execution_count": null,
   "id": "9f5f6b60",
   "metadata": {},
   "outputs": [],
   "source": []
  }
 ],
 "metadata": {
  "kernelspec": {
   "display_name": "Python 3",
   "language": "python",
   "name": "python3"
  },
  "language_info": {
   "codemirror_mode": {
    "name": "ipython",
    "version": 3
   },
   "file_extension": ".py",
   "mimetype": "text/x-python",
   "name": "python",
   "nbconvert_exporter": "python",
   "pygments_lexer": "ipython3",
   "version": "3.7.6"
  }
 },
 "nbformat": 4,
 "nbformat_minor": 5
}
